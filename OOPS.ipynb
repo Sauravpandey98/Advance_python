{
 "metadata": {
  "language_info": {
   "codemirror_mode": {
    "name": "ipython",
    "version": 3
   },
   "file_extension": ".py",
   "mimetype": "text/x-python",
   "name": "python",
   "nbconvert_exporter": "python",
   "pygments_lexer": "ipython3",
   "version": "3.6.9"
  },
  "orig_nbformat": 4,
  "kernelspec": {
   "name": "python3",
   "display_name": "Python 3.6.9 64-bit"
  },
  "interpreter": {
   "hash": "31f2aee4e71d21fbe5cf8b01ff0e069b9275f58929596ceb00d14d90e3e16cd6"
  }
 },
 "nbformat": 4,
 "nbformat_minor": 2,
 "cells": [
  {
   "source": [
    "# OOPS"
   ],
   "cell_type": "markdown",
   "metadata": {}
  },
  {
   "cell_type": "code",
   "execution_count": 1,
   "metadata": {},
   "outputs": [
    {
     "output_type": "stream",
     "name": "stdout",
     "text": [
      "Saurav\n1.04\n1\n1.04\n"
     ]
    },
    {
     "output_type": "error",
     "ename": "AttributeError",
     "evalue": "'Employee2' object has no attribute '__name'",
     "traceback": [
      "\u001b[0;31m---------------------------------------------------------------------------\u001b[0m",
      "\u001b[0;31mAttributeError\u001b[0m                            Traceback (most recent call last)",
      "\u001b[0;32m<ipython-input-1-daa0874b4529>\u001b[0m in \u001b[0;36m<module>\u001b[0;34m\u001b[0m\n\u001b[1;32m     40\u001b[0m \u001b[0memp_2\u001b[0m\u001b[0;34m.\u001b[0m\u001b[0mwork_day\u001b[0m\u001b[0;34m(\u001b[0m\u001b[0;36m1\u001b[0m\u001b[0;34m)\u001b[0m\u001b[0;34m\u001b[0m\u001b[0;34m\u001b[0m\u001b[0m\n\u001b[1;32m     41\u001b[0m \u001b[0mprint\u001b[0m\u001b[0;34m(\u001b[0m\u001b[0memp_2\u001b[0m\u001b[0;34m.\u001b[0m\u001b[0mraise_amount\u001b[0m\u001b[0;34m)\u001b[0m\u001b[0;34m\u001b[0m\u001b[0;34m\u001b[0m\u001b[0m\n\u001b[0;32m---> 42\u001b[0;31m \u001b[0mprint\u001b[0m\u001b[0;34m(\u001b[0m\u001b[0memp_2\u001b[0m\u001b[0;34m.\u001b[0m\u001b[0m__name\u001b[0m\u001b[0;34m)\u001b[0m\u001b[0;34m\u001b[0m\u001b[0;34m\u001b[0m\u001b[0m\n\u001b[0m\u001b[1;32m     43\u001b[0m \u001b[0;31m#if we define a instance variable same as class variable then that instance variable will override the class variable thus we should not do it\u001b[0m\u001b[0;34m\u001b[0m\u001b[0;34m\u001b[0m\u001b[0;34m\u001b[0m\u001b[0m\n\u001b[1;32m     44\u001b[0m \u001b[0;31m#we can declare a instance variable outside a class\u001b[0m\u001b[0;34m\u001b[0m\u001b[0;34m\u001b[0m\u001b[0;34m\u001b[0m\u001b[0m\n",
      "\u001b[0;31mAttributeError\u001b[0m: 'Employee2' object has no attribute '__name'"
     ]
    }
   ],
   "source": [
    "#implies that self is only a identifier for an instance of a class ,we can use another indentifier\n",
    "class Employee1:\n",
    "    def __init__(a,b):\n",
    "        a.name=b\n",
    "\n",
    "intance1=Employee1(\"Saurav\")\n",
    "print(intance1.name)\n",
    "\n",
    "##difference between class variable and instance variable and class methods,regular methods,static methods\n",
    "class Employee2:\n",
    "    raise_amount=1.04\n",
    "\n",
    "    def __init__(self,name):\n",
    "        self.__name=name\n",
    "        self.init_pay=500\n",
    "        self.total_pay=self.init_pay\n",
    "\n",
    "    def raise_pay(self):\n",
    "        self.total_pay=self.total_pay+self.total_pay*self.raise_amount\n",
    "        return self.total_pay\n",
    "\n",
    "    #self parameter is NOT used \n",
    "    @classmethod\n",
    "    def global_set_raise_amount(cls,raise_amount):\n",
    "        cls.raise_amount=raise_amount\n",
    "    \n",
    "    def local_set_raise_amount(self,raise_amount):\n",
    "        self.raise_amount=raise_amount\n",
    "\n",
    "    #no class parameter or self parameter is used\n",
    "    @staticmethod\n",
    "    def work_day(day):\n",
    "        print(day)\n",
    "    \n",
    "emp_1=Employee2(\"Saurav\")\n",
    "emp_2=Employee2(\"Mishael\")\n",
    "Employee2(\"Mishael\").local_set_raise_amount(1.06)\n",
    "#Employee2.global_set_raise_amount(1)\n",
    "print(emp_2.raise_amount)\n",
    "emp_2.work_day(1)\n",
    "print(emp_2.raise_amount)\n",
    "print(emp_2.__name)\n",
    "#if we define a instance variable same as class variable then that instance variable will override the class variable thus we should not do it\n",
    "#we can declare a instance variable outside a class\n",
    "#everything in a class is public\n",
    "#three types of method are present\n",
    "#  1.regular methods(prameter includes self)\n",
    "#Can change the state of object and cannot be called with class\n",
    "#  2. class methods(parameter includes class)\n",
    "#Have acccess to classs variable and modify class variable.Can be called by using class and object\n",
    "#  3. static mathods(does not include both of them\n",
    "# DOn't have accesss to both variables and can be called usinig class and object"
   ]
  },
  {
   "source": [
    "# Inheritance"
   ],
   "cell_type": "markdown",
   "metadata": {}
  },
  {
   "cell_type": "code",
   "execution_count": 57,
   "metadata": {},
   "outputs": [
    {
     "output_type": "stream",
     "name": "stdout",
     "text": [
      "Saurav  pandey\n"
     ]
    }
   ],
   "source": [
    "class Employee:\n",
    "\n",
    "    global_raise_amount=0\n",
    "\n",
    "    def __init__(self,post,pay,mobile_number,first_name,middle_name,last_name):\n",
    "        self.__Name=first_name+\" \"+middle_name+\" \"+last_name\n",
    "        self.__post=post\n",
    "        self.__pay=pay\n",
    "        self.__local_raise_amount=0\n",
    "        self.__mobile_number=mobile_number\n",
    "\n",
    "    @property\n",
    "    def pay(self,):\n",
    "        return self.__pay+self.global_raise_amount+self.__local_raise\n",
    "        \n",
    "    @property\n",
    "    def post(self):\n",
    "        return self.__post\n",
    "\n",
    "\n",
    "    @post.setter\n",
    "    def post(self,post):\n",
    "        self.__post=post\n",
    "    \n",
    "    @property\n",
    "    def name(self):\n",
    "        return self.__Name\n",
    "\n",
    "    @property\n",
    "    def local_raise_amount(self):\n",
    "        return self.__local_raise_amount\n",
    "\n",
    "    @local_raise_amount.setter\n",
    "    def local_raise_amount(self,rasie_amount):\n",
    "        self.__local_raise_amount=raise_amount\n",
    "\n",
    "    @property\n",
    "    def mobile_number(self):\n",
    "        return self.__mobile_number\n",
    "\n",
    "    @mobile_number.setter\n",
    "    def mobile_number(self,number):\n",
    "        self.__mobile_number=number\n",
    "\n",
    "      \n",
    "    @staticmethod\n",
    "    def is_work_day(day):\n",
    "        if(day==\"Saturday\" or day==\"Sunday\"):\n",
    "            print(\"yes\")\n",
    "        else:\n",
    "            print(\"no\")\n",
    "a=Employee(\"ASs\",\"500\",\"9873206850\",\"Saurav\",\"\",\"pandey\")\n",
    "b=a\n",
    "print(b.name)\n",
    "    \n",
    "        \n",
    "        "
   ]
  },
  {
   "source": [
    "Class developer is inheriting from Employee class.All the methods that are applicable for employee instance will be available for developer instance.Interpreter will look for the definition of method in following series\n",
    "Developer->Employee.Means a child class can override its parent class method.\n",
    "\n",
    "To know about the heirarchy tree of a class or simply about a class we can use help((Class_name)) function\n"
   ],
   "cell_type": "markdown",
   "metadata": {}
  },
  {
   "cell_type": "code",
   "execution_count": 28,
   "metadata": {},
   "outputs": [],
   "source": [
    "class Developer(Employee):\n",
    "    def __init__(self,lang,speciality,pay,post,mobile_number,first_name,middle_name,last_name):\n",
    "        super().__init__(post,pay,mobile_number,first_name,middle_name,last_name)\n",
    "        self.__lang=lang\n",
    "        self.__speciality=speciality\n",
    "    \n",
    "class Designer(Employee):\n",
    "    def __init__(self,tools,pay,post,mobile_number,first_name,middle_name,last_name):\n",
    "        super().__init__(post,pay,mobile_number,first_name,middle_name,last_name)\n",
    "        self.tools=tools\n",
    "\n",
    "    "
   ]
  },
  {
   "source": [
    "# Property Decorators\n",
    "Proprerty decorators like staticmethod,classmethod,getters,setters helps us in changing the behaviour of class methods.Here @property allows us to set the value of variables using outside the class without calling the methods .Using these decorators we can also set values of variables according to particular condition.\n",
    "Another way to use decorators\n",
    "a=property(get_a,set_a,del_a)\n",
    "\n",
    "# Encapsulation\n",
    "Use of under_score allows Encapsulation in python.Variable declared with single underscore as prefix are conventionally considered to be protected.While variable declared with double underscore as prefix are considered to be private.But python is not like java.Here Encapsulation is not done practically.That means we can still use variable with single under score outside class.While python changes the name of variable declared with double underscore as shown in first cell.But a developer can still call that variable outside class by calling \"_classname__variablename\"."
   ],
   "cell_type": "markdown",
   "metadata": {}
  },
  {
   "cell_type": "code",
   "execution_count": 58,
   "metadata": {},
   "outputs": [
    {
     "output_type": "stream",
     "name": "stdout",
     "text": [
      "Help on class Manager in module __main__:\n\nclass Manager(Employee)\n |  Method resolution order:\n |      Manager\n |      Employee\n |      builtins.object\n |  \n |  Methods defined here:\n |  \n |  __init__(password, post, pay, mobile_number, first_name=None, middle_name=None, last_name=None)\n |      Initialize self.  See help(type(self)) for accurate signature.\n |  \n |  ----------------------------------------------------------------------\n |  Class methods defined here:\n |  \n |  add_employee(Employee) from builtins.type\n |  \n |  remove_employee(Employee_number) from builtins.type\n |  \n |  ----------------------------------------------------------------------\n |  Data descriptors defined here:\n |  \n |  global_raise_amount\n |      staticmethod(function) -> method\n |      \n |      Convert a function to be a static method.\n |      \n |      A static method does not receive an implicit first argument.\n |      To declare a static method, use this idiom:\n |      \n |           class C:\n |               @staticmethod\n |               def f(arg1, arg2, ...):\n |                   ...\n |      \n |      It can be called either on the class (e.g. C.f()) or on an instance\n |      (e.g. C().f()).  The instance is ignored except for its class.\n |      \n |      Static methods in Python are similar to those found in Java or C++.\n |      For a more advanced concept, see the classmethod builtin.\n |  \n |  ----------------------------------------------------------------------\n |  Data and other attributes defined here:\n |  \n |  Employee_list = {}\n |  \n |  ----------------------------------------------------------------------\n |  Static methods inherited from Employee:\n |  \n |  is_work_day(day)\n |  \n |  ----------------------------------------------------------------------\n |  Data descriptors inherited from Employee:\n |  \n |  __dict__\n |      dictionary for instance variables (if defined)\n |  \n |  __weakref__\n |      list of weak references to the object (if defined)\n |  \n |  local_raise_amount\n |  \n |  mobile_number\n |  \n |  name\n |  \n |  pay\n |  \n |  post\n\nNone\n"
     ]
    }
   ],
   "source": [
    "class Manager(Employee):\n",
    "\n",
    "    Employee_list={}\n",
    "\n",
    "    def __init__(password,post,pay,mobile_number,first_name=None,middle_name=None,last_name=None):\n",
    "        super().__init__(post,pay,first_name=None,middle_name=None,last_name=None)\n",
    "        self.password=password\n",
    "\n",
    "    @classmethod\n",
    "    def add_employee(cls,Employee):\n",
    "\n",
    "        cls.Employee_list.update({Employee.mobile_number:Employee})\n",
    "        print(\"New Employee with name {} has been added\".format(Employee.name))\n",
    "        print(cls.Employee_list)\n",
    "\n",
    "    @classmethod\n",
    "    def remove_employee(cls,Employee_number):\n",
    "        output=cls.Employee_list.pop(Employee_number,\"No such Employee found\")\n",
    "        if (isinstance(output,Employee)):\n",
    "            print(\"{} has been removed\".format(output.name))\n",
    "        else:\n",
    "            print(output)\n",
    "\n",
    "    @property\n",
    "    @staticmethod\n",
    "    def global_raise_amount():\n",
    "        return Employee.global_raise_amount\n",
    "    \n",
    "    \n",
    "    @global_raise_amount.setter\n",
    "    @staticmethod\n",
    "    def global_raise_amount(raise_amount):\n",
    "        Employee.global_raise_amount=raise_amount\n",
    "\n",
    "   \n",
    "\n",
    "print(help(Manager))"
   ]
  },
  {
   "cell_type": "code",
   "execution_count": 52,
   "metadata": {},
   "outputs": [
    {
     "output_type": "stream",
     "name": "stdout",
     "text": [
      "Welcome to Python compnay\n",
      "How are you logging....\n",
      "1. Manager\n",
      "2. Employee\n",
      "Welcome Company Manager\n",
      "what do you want me to do\n",
      "1. Add Employee\n",
      "2. Remove Employee\n",
      "3. Raise income of Employees \n",
      "4.Quit\n",
      "Employee is : \n",
      "1.Developer\n",
      "2.Designer\n",
      "New Employee with name Saurav  Pandey has been added\n",
      "{'9873206850': <__main__.Developer object at 0x7f1a636ee908>}\n",
      "Employee is : \n",
      "1.Developer\n",
      "2.Designer\n",
      "New Employee with name ALok  Pandey has been added\n",
      "{'9873206850': <__main__.Developer object at 0x7f1a636ee908>, '9899612488': <__main__.Developer object at 0x7f1a63725080>}\n",
      "<__main__.Developer object at 0x7f1a63725080>\n"
     ]
    }
   ],
   "source": [
    "if __name__=='__main__' :\n",
    "    print(\"Welcome to Python compnay\")\n",
    "    print(\"How are you logging....\",\"1. Manager\",\"2. Employee\",sep=\"\\n\")\n",
    "    user_inp=input(\"Enter your option here : \")\n",
    "    if user_inp==\"1\":\n",
    "        pwrd=input(\"please enter your password\")\n",
    "        if(pwrd==\"1234\"):\n",
    "             print(\"Welcome Company Manager\")\n",
    "             print(\"what do you want me to do\",\"1. Add Employee\",\"2. Remove Employee\" ,\"3. Raise income of Employees \",\"4.Quit\",sep=\"\\n\")\n",
    "             user_input=input(\"Enter your option \")\n",
    "             while(user_input!=\"4\"):\n",
    "                if(user_input==\"1\"):\n",
    "                    print(\"Employee is : \",\"1.Developer\",\"2.Designer\",sep=\"\\n\")\n",
    "                    user_inp=input(\"Enter your options:\")\n",
    "                    if(user_inp!=\"1\" and user_inp!=\"2\"):\n",
    "                        print(\"wrong_option\")\n",
    "                    else:\n",
    "                        pay=input(\"Enter intial payment\")\n",
    "                        post=input(\"Enter post: \")\n",
    "                        mobile_number=input(\"Enter mobile number : \")\n",
    "                        first_name=input(\"Enter first name\")\n",
    "                        middle_name=input(\"enter middle name\")\n",
    "                        last_name=input(\"Enter last name\")\n",
    "                        if(user_inp==\"1\"):\n",
    "                            language=input(\"Enter language\")\n",
    "                            speciality=input(\"Enter speciality\")\n",
    "                            Manager.add_employee(Developer(language,speciality,pay,post,mobile_number,first_name,middle_name,last_name))\n",
    "                        else:\n",
    "                            tools=input(\"enter tools used\")\n",
    "                            Manager.add_employee(Designer(tools,pay,post,mobile_number,first_name,middle_name,last_name))\n",
    "                elif(user_input==\"2\"):\n",
    "                    Emp_number=input(\"enter mobile number of Employee\")\n",
    "                    Manager.remove_employee(Emp_number)\n",
    "                elif(user_input==\"3\"):\n",
    "                    raise_pay_amount=input(\"how much to raise\")\n",
    "                    Manager.global_raise_amount=raise_pay_amount\n",
    "                user_input=input(\"enter_your_option\")\n",
    "\n",
    "\n",
    "\n",
    "\n",
    "\n",
    "\n",
    "\n",
    "\n",
    "\n",
    "                    \n",
    "\n",
    "\n",
    "\n",
    "                 \n",
    "\n",
    "\n",
    "\n"
   ]
  },
  {
   "cell_type": "code",
   "execution_count": null,
   "metadata": {},
   "outputs": [],
   "source": []
  }
 ]
}