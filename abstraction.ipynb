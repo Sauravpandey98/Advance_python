{
 "cells": [
  {
   "cell_type": "markdown",
   "metadata": {},
   "source": [
    "# Abstraction in Python\n",
    "\n",
    "In this notebook, we will get know of how to implement abstraction in python.But before that lets' answer some questions:\n",
    "\n",
    "## What is abstraction?\n",
    "Abstraction is a way of hiding the complexity related to functionality of an object.Let's understand it through an real life example.\n",
    "\n",
    "A TV remote has buttons through which we can use the differente functionalities of the Remote.Now these button are basically hiding the complex circuitry inside the remote.As a user we do not have to care about the circuitry and how does it work.We just need to care about the functionalities of the button that is provided to us.\n",
    "Apart from that,let suppose We as an Engineer decided to build our own remote,but we want the remote to have the same functionanality as the original one.In that case,we will build our own circuitry (a faster one) and inherit the same abstraction provided by the original remote i.e make the user interface(button) in the same way as original one.\n",
    "\n",
    "So,according to the above mentioned example,here are some points where Abstraction helps us.\n",
    "* Creating a blueprint of an object.\n",
    "* Exposing only the necessary part to the users.\n",
    "* Simplifies the development process of objects inherited from base class.\n",
    "\n",
    "## How to use abstraction in Programming ?\n",
    "\n",
    "Following cells will describe of how to use the abstraction."
   ]
  },
  {
   "cell_type": "markdown",
   "metadata": {},
   "source": [
    "## Use of Abstraction"
   ]
  },
  {
   "cell_type": "markdown",
   "metadata": {},
   "source": [
    "### Step 1: Defines An Abstract Class\n",
    "\n",
    "An abstract class is a class that implements the normal methods and also the abstract methods."
   ]
  },
  {
   "cell_type": "code",
   "execution_count": 2,
   "metadata": {},
   "outputs": [],
   "source": [
    "from abc import ABC,abstractmethod\n",
    "\n",
    "class Remote(ABC):\n",
    "\n",
    "    def __init__(self,name:str):\n",
    "        self.name=name\n",
    "\n",
    "    #concrete methods\n",
    "    def on(self):\n",
    "        print(f\"Starting Remote: {self.name}\")\n",
    "\n",
    "    def off(self):\n",
    "        print(f\"Closing Remote: {self.name}\")\n",
    "\n",
    "    #abstract method\n",
    "    @abstractmethod\n",
    "    def change(self,channel_name:str):\n",
    "        print(\"changed for channel_name: \",channel_name)\n"
   ]
  },
  {
   "cell_type": "markdown",
   "metadata": {},
   "source": [
    "### Step 2: Create Concrete Subclasses\n",
    "\n",
    "Concrete Subclasses are classes that implement only the concrete or normal methods"
   ]
  },
  {
   "cell_type": "code",
   "execution_count": null,
   "metadata": {},
   "outputs": [],
   "source": [
    "class CustomRemote(Remote):\n",
    "\n",
    "    def change(self, channel_name: str):\n",
    "        print(\"changing channel of CustomRemote\")\n",
    "        super().change(channel_name=channel_name)\n",
    "\n",
    "\n",
    "    "
   ]
  }
 ],
 "metadata": {
  "kernelspec": {
   "display_name": "Python 3",
   "language": "python",
   "name": "python3"
  },
  "language_info": {
   "codemirror_mode": {
    "name": "ipython",
    "version": 3
   },
   "file_extension": ".py",
   "mimetype": "text/x-python",
   "name": "python",
   "nbconvert_exporter": "python",
   "pygments_lexer": "ipython3",
   "version": "3.10.12"
  }
 },
 "nbformat": 4,
 "nbformat_minor": 2
}
